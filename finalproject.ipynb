{
  "nbformat": 4,
  "nbformat_minor": 2,
  "metadata": {
    "colab": {
      "name": "finalproject",
      "provenance": []
    },
    "kernelspec": {
      "name": "python3",
      "display_name": "Python 3.9.6 64-bit"
    },
    "language_info": {
      "name": "python",
      "version": "3.9.6",
      "mimetype": "text/x-python",
      "codemirror_mode": {
        "name": "ipython",
        "version": 3
      },
      "pygments_lexer": "ipython3",
      "nbconvert_exporter": "python",
      "file_extension": ".py"
    },
    "interpreter": {
      "hash": "aee8b7b246df8f9039afb4144a1f6fd8d2ca17a180786b69acc140d282b71a49"
    }
  },
  "cells": [
    {
      "cell_type": "markdown",
      "source": [
        "# **Question 1**"
      ],
      "metadata": {
        "id": "K5-y9jewPAd4"
      }
    },
    {
      "cell_type": "code",
      "execution_count": 7,
      "source": [
        "import matplotlib.pyplot as plt\n",
        "import pandas as pd\n",
        "import numpy as np \n",
        "import time "
      ],
      "outputs": [],
      "metadata": {
        "id": "Qd8IhfELNeC8"
      }
    },
    {
      "cell_type": "markdown",
      "source": [
        "# **Question 2**"
      ],
      "metadata": {
        "id": "qP36An5cPPCZ"
      }
    },
    {
      "cell_type": "code",
      "execution_count": 1,
      "source": [
        "class Timer(): \n",
        "  def __init__(self): \n",
        "    self.times = [] \n",
        "    self.start()\n",
        "  \n",
        "  def start(self): \n",
        "    self.start_time = time.time()\n",
        "  \n",
        "  def stop(self): \n",
        "    self.times.append(time.time() - self.start_time)\n",
        "    return self.times[-1]"
      ],
      "outputs": [],
      "metadata": {
        "id": "Yz59UJ3hQRBb"
      }
    },
    {
      "cell_type": "code",
      "execution_count": 13,
      "source": [
        "def fileNameSelect(): \n",
        "  print('Choose file to run: ')\n",
        "  print('1: Small file \\n')\n",
        "  print('2: Medium file \\n')\n",
        "  print('3: Large file \\n')\n",
        "\n",
        "  while True: \n",
        "    try: \n",
        "      select = int(input())\n",
        "      if select >= 1 and select <= 3: \n",
        "        break\n",
        "      print('Please type a valid number ')\n",
        "    except Exception: \n",
        "      print('Please type a number')\n",
        "  return ['data/small.csv', 'data/medium.csv', 'data/large.csv'][select - 1]\n",
        "  "
      ],
      "outputs": [],
      "metadata": {
        "id": "nUXa1-Z-Nqqt"
      }
    },
    {
      "cell_type": "code",
      "execution_count": 4,
      "source": [
        "def sortHis(table): \n",
        "  arr = [{'key': key, 'value': table[key]} for key in table]\n",
        "  for i in range(len(arr)): \n",
        "      for j in range(i+1, len(arr)): \n",
        "          if arr[i]['value'] < arr[j]['value']: \n",
        "              tmp = arr[i]\n",
        "              arr[i] = arr[j]\n",
        "              arr[j] = tmp\n",
        "\n",
        "  return arr "
      ],
      "outputs": [],
      "metadata": {
        "id": "KTfNLpD8jPl2"
      }
    },
    {
      "cell_type": "markdown",
      "source": [
        "# **Question 3**"
      ],
      "metadata": {
        "id": "-wcQlrnNSXEX"
      }
    },
    {
      "cell_type": "code",
      "execution_count": 14,
      "source": [
        "file_name = fileNameSelect()\n",
        "columns = ['id', 'price', 'date', 'type', 'old/new', 'duration', 'town/city', 'district', 'country', 'ppd_type', 'record_status']"
      ],
      "outputs": [
        {
          "output_type": "stream",
          "name": "stdout",
          "text": [
            "Choose file to run: \n",
            "1: Small file \n",
            "\n",
            "2: Medium file \n",
            "\n",
            "3: Large file \n",
            "\n"
          ]
        }
      ],
      "metadata": {
        "colab": {
          "base_uri": "https://localhost:8080/"
        },
        "id": "UzUtrU-IODVW",
        "outputId": "42a4fb23-c5f4-4391-8afe-b98609ba2de4"
      }
    },
    {
      "cell_type": "code",
      "execution_count": 15,
      "source": [
        "timer = Timer()\n",
        "data_read = pd.read_csv(file_name)\n",
        "df = pd.DataFrame(data=data_read)\n",
        "df.columns = columns\n",
        "print('Time to read file data: ', timer.stop())"
      ],
      "outputs": [
        {
          "output_type": "stream",
          "name": "stdout",
          "text": [
            "Time to read file data:  0.07143402099609375\n"
          ]
        }
      ],
      "metadata": {
        "colab": {
          "base_uri": "https://localhost:8080/"
        },
        "id": "cFN7M9CtOGTv",
        "outputId": "130c41dd-908d-47da-ecc1-9a6e2034da55"
      }
    },
    {
      "cell_type": "code",
      "execution_count": 10,
      "source": [
        "df.head(4)"
      ],
      "outputs": [
        {
          "output_type": "execute_result",
          "data": {
            "text/html": [
              "<div>\n",
              "<style scoped>\n",
              "    .dataframe tbody tr th:only-of-type {\n",
              "        vertical-align: middle;\n",
              "    }\n",
              "\n",
              "    .dataframe tbody tr th {\n",
              "        vertical-align: top;\n",
              "    }\n",
              "\n",
              "    .dataframe thead th {\n",
              "        text-align: right;\n",
              "    }\n",
              "</style>\n",
              "<table border=\"1\" class=\"dataframe\">\n",
              "  <thead>\n",
              "    <tr style=\"text-align: right;\">\n",
              "      <th></th>\n",
              "      <th>id</th>\n",
              "      <th>price</th>\n",
              "      <th>date</th>\n",
              "      <th>type</th>\n",
              "      <th>old/new</th>\n",
              "      <th>duration</th>\n",
              "      <th>town/city</th>\n",
              "      <th>district</th>\n",
              "      <th>country</th>\n",
              "      <th>ppd_type</th>\n",
              "      <th>record_status</th>\n",
              "    </tr>\n",
              "  </thead>\n",
              "  <tbody>\n",
              "    <tr>\n",
              "      <th>0</th>\n",
              "      <td>{3BE8D582-F5C3-4613-A6DF-9AA0633E5FC1}</td>\n",
              "      <td>35500</td>\n",
              "      <td>1998-05-08 00:00</td>\n",
              "      <td>F</td>\n",
              "      <td>N</td>\n",
              "      <td>L</td>\n",
              "      <td>NEWPORT</td>\n",
              "      <td>ISLE OF WIGHT</td>\n",
              "      <td>ISLE OF WIGHT</td>\n",
              "      <td>A</td>\n",
              "      <td>A</td>\n",
              "    </tr>\n",
              "    <tr>\n",
              "      <th>1</th>\n",
              "      <td>{3F27ACB5-CDBA-4879-B34F-9AA08C5068AD}</td>\n",
              "      <td>49000</td>\n",
              "      <td>1998-05-18 00:00</td>\n",
              "      <td>D</td>\n",
              "      <td>N</td>\n",
              "      <td>F</td>\n",
              "      <td>BOSTON</td>\n",
              "      <td>EAST LINDSEY</td>\n",
              "      <td>LINCOLNSHIRE</td>\n",
              "      <td>A</td>\n",
              "      <td>A</td>\n",
              "    </tr>\n",
              "    <tr>\n",
              "      <th>2</th>\n",
              "      <td>{F6B50C0F-F615-405B-8E23-939089216AC5}</td>\n",
              "      <td>94995</td>\n",
              "      <td>1998-07-21 00:00</td>\n",
              "      <td>D</td>\n",
              "      <td>N</td>\n",
              "      <td>F</td>\n",
              "      <td>PETERLEE</td>\n",
              "      <td>EASINGTON</td>\n",
              "      <td>DURHAM</td>\n",
              "      <td>A</td>\n",
              "      <td>A</td>\n",
              "    </tr>\n",
              "    <tr>\n",
              "      <th>3</th>\n",
              "      <td>{B16687CE-C115-4DF0-A9A5-93908E3C6E15}</td>\n",
              "      <td>109950</td>\n",
              "      <td>1998-03-27 00:00</td>\n",
              "      <td>D</td>\n",
              "      <td>Y</td>\n",
              "      <td>F</td>\n",
              "      <td>SHERINGHAM</td>\n",
              "      <td>NORTH NORFOLK</td>\n",
              "      <td>NORFOLK</td>\n",
              "      <td>A</td>\n",
              "      <td>A</td>\n",
              "    </tr>\n",
              "  </tbody>\n",
              "</table>\n",
              "</div>"
            ],
            "text/plain": [
              "                                       id   price              date type  \\\n",
              "0  {3BE8D582-F5C3-4613-A6DF-9AA0633E5FC1}   35500  1998-05-08 00:00    F   \n",
              "1  {3F27ACB5-CDBA-4879-B34F-9AA08C5068AD}   49000  1998-05-18 00:00    D   \n",
              "2  {F6B50C0F-F615-405B-8E23-939089216AC5}   94995  1998-07-21 00:00    D   \n",
              "3  {B16687CE-C115-4DF0-A9A5-93908E3C6E15}  109950  1998-03-27 00:00    D   \n",
              "\n",
              "  old/new duration   town/city       district        country ppd_type  \\\n",
              "0       N        L     NEWPORT  ISLE OF WIGHT  ISLE OF WIGHT        A   \n",
              "1       N        F      BOSTON   EAST LINDSEY   LINCOLNSHIRE        A   \n",
              "2       N        F    PETERLEE      EASINGTON         DURHAM        A   \n",
              "3       Y        F  SHERINGHAM  NORTH NORFOLK        NORFOLK        A   \n",
              "\n",
              "  record_status  \n",
              "0             A  \n",
              "1             A  \n",
              "2             A  \n",
              "3             A  "
            ]
          },
          "metadata": {},
          "execution_count": 10
        }
      ],
      "metadata": {
        "colab": {
          "base_uri": "https://localhost:8080/",
          "height": 949
        },
        "id": "569XnfgZS52y",
        "outputId": "671df061-90a2-4970-8272-c6f9525a0035"
      }
    },
    {
      "cell_type": "markdown",
      "source": [
        "# **Question 4**"
      ],
      "metadata": {
        "id": "7Hy1jAilWDUd"
      }
    },
    {
      "cell_type": "code",
      "execution_count": 32,
      "source": [
        "def getTable(key): \n",
        "  hist_table = {}\n",
        "  for i in range(len(df)): \n",
        "      hist_value = df.iloc[i][key]\n",
        "      if hist_value not in hist_table: \n",
        "          hist_table[hist_value] = 0\n",
        "      \n",
        "      hist_table[hist_value] += 1 \n",
        "  return hist_table"
      ],
      "outputs": [],
      "metadata": {
        "id": "qNBBvVsrWCc-"
      }
    },
    {
      "cell_type": "code",
      "execution_count": 92,
      "source": [
        "# (city_his, type_his) = getCitiesTable()"
      ],
      "outputs": [],
      "metadata": {
        "id": "fHV7ohm8agUz"
      }
    },
    {
      "cell_type": "code",
      "execution_count": 34,
      "source": [
        "def visualizeTransactionByCity(): \n",
        "  timer.start() \n",
        "  if file_name == 'small.csv': \n",
        "    city_his = getTable('town/city')\n",
        "    sorted_city_hist = sortHis(table=city_his)\n",
        "    cities = [item['key'] for item in sorted_city_hist][:10]\n",
        "    values = [item['value'] for item in sorted_city_hist][:10]\n",
        "  else: \n",
        "    city_list = np.array(df['town/city'].values.tolist()) \n",
        "    nodes, inv, counts = np.unique(city_list, return_inverse=True, return_counts=True)\n",
        "    city_his = {}\n",
        "    for i, node in enumerate(nodes): \n",
        "      city_his[node] = counts[i]\n",
        "    sorted_city_hist = sortHis(table=city_his)\n",
        "    cities = [item['key'] for item in sorted_city_hist][:10]\n",
        "    values = [item['value'] for item in sorted_city_hist][:10]\n",
        "  plt.figure(figsize=(15, 3))  # width:20, height:3\n",
        "  plt.bar(cities, values, align='edge', width=0.5)\n",
        "  plt.xlabel('City')\n",
        "  plt.ylabel('Number of transaction')\n",
        "  plt.show()\n",
        "  print('The city has largest transaction: ', sorted_city_hist[0]['key'])\n",
        "  print('Time to run question 4: ', timer.stop())"
      ],
      "outputs": [],
      "metadata": {
        "colab": {
          "base_uri": "https://localhost:8080/",
          "height": 259
        },
        "id": "0CDB3SvcadMm",
        "outputId": "7cb24da3-4e9b-4dba-b656-cefa034e4ecf"
      }
    },
    {
      "cell_type": "code",
      "execution_count": 35,
      "source": [
        "visualizeTransactionByCity()"
      ],
      "outputs": [
        {
          "output_type": "display_data",
          "data": {
            "image/png": "[encoded data removed]",
            "text/plain": [
              "<Figure size 1080x216 with 1 Axes>"
            ]
          },
          "metadata": {
            "needs_background": "light"
          }
        },
        {
          "output_type": "stream",
          "name": "stdout",
          "text": [
            "The city has largest transaction:  LONDON\n",
            "Time to run question 4:  5.589359760284424\n"
          ]
        }
      ],
      "metadata": {}
    },
    {
      "cell_type": "markdown",
      "source": [
        "# **Question 5**"
      ],
      "metadata": {
        "id": "8R8Vo3jgka2Y"
      }
    },
    {
      "cell_type": "code",
      "execution_count": 36,
      "source": [
        "def question5(): \n",
        "  timer = Timer()\n",
        "  timer.start() \n",
        "  \n",
        "  if file_name == 'small.csv': \n",
        "    type_hist = getTable('type')\n",
        "  else: \n",
        "    type_list = np.array(df['type'].values.tolist())\n",
        "    nodes, inv, counts = np.unique(type_list, return_inverse=True, return_counts=True)\n",
        "    type_hist = {} \n",
        "    for i, node in enumerate(nodes): \n",
        "      type_hist[node] = counts[i]\n",
        "  \n",
        "  property_his = {'D': 'Deteched', 'S': 'Semi-Deteched', 'T': 'Terraced', 'F': 'Flats', 'O': 'Other'}\n",
        "  types = [property_his[type] for type in type_hist]\n",
        "  amounts = type_hist.values()\n",
        "\n",
        "  plt.bar(types, amounts, align='edge', width=0.5)\n",
        "  plt.xlabel('Type')\n",
        "  plt.ylabel('Number of transaction')\n",
        "  plt.show()\n",
        "  print('Time to run question 5: ', timer.stop())\n",
        "\n",
        "question5()"
      ],
      "outputs": [
        {
          "output_type": "display_data",
          "data": {
            "image/png": "[encoded data removed]",
            "text/plain": [
              "<Figure size 432x288 with 1 Axes>"
            ]
          },
          "metadata": {
            "needs_background": "light"
          }
        },
        {
          "output_type": "stream",
          "name": "stdout",
          "text": [
            "Time to run question 5:  1.5384371280670166\n"
          ]
        }
      ],
      "metadata": {
        "id": "QXlgVN49dvvE"
      }
    },
    {
      "cell_type": "markdown",
      "source": [
        "# **Question 6**"
      ],
      "metadata": {}
    },
    {
      "cell_type": "code",
      "execution_count": 37,
      "source": [
        "# Calculate how many transaction conducted between 10 and 20 monthly\n",
        "def dateApply(x): \n",
        "   x = x.split(' ')[0]\n",
        "   return x \n",
        "\n",
        "def splitDate(): \n",
        "   global df \n",
        "   timer = Timer() \n",
        "   timer.start() \n",
        "   df['date'] = df['date'].apply(dateApply)\n",
        "   dateDf = pd.DataFrame(df['date'].str.split('-').tolist(), columns=['year', 'month', 'day'])\n",
        "   df = df.join(dateDf)\n",
        "   print('Time to excute split date function: ', timer.stop())"
      ],
      "outputs": [],
      "metadata": {}
    },
    {
      "cell_type": "code",
      "execution_count": 38,
      "source": [
        "splitDate()"
      ],
      "outputs": [
        {
          "output_type": "stream",
          "name": "stdout",
          "text": [
            "Time to excute split date function:  13.305696964263916\n"
          ]
        }
      ],
      "metadata": {}
    },
    {
      "cell_type": "code",
      "execution_count": 39,
      "source": [
        "def question6(): \n",
        "   timer = Timer() \n",
        "   timer.start()\n",
        "   df['day'] = df['day'].astype(int)\n",
        "   df['month'] = df['month'].astype(int)\n",
        "   df['year'] = df['year'].astype(int)\n",
        "   filter_day1 = np.array(df['day'] > 10)\n",
        "   filter_day2 = np.array(df['day'] < 20)\n",
        "   filter_day = np.logical_and(filter_day1, filter_day2)\n",
        "   filter_df = df[filter_day]\n",
        "   print('There are {} transaction conducted between 10th and 20th monthly'.format(len(filter_df)//12))\n",
        "   print('Time to excute question 6: ', timer.stop())\n",
        "question6()"
      ],
      "outputs": [
        {
          "output_type": "stream",
          "name": "stdout",
          "text": [
            "There are 230340 transaction conducted between 10th and 20th monthly\n",
            "Time to excute question 6:  4.3453521728515625\n"
          ]
        }
      ],
      "metadata": {}
    },
    {
      "cell_type": "markdown",
      "source": [
        "# **Question 7**"
      ],
      "metadata": {}
    },
    {
      "cell_type": "code",
      "execution_count": 40,
      "source": [
        "def question7(): \n",
        "   timer = Timer() \n",
        "   timer.start() \n",
        "   print('Input a month to sort: ') \n",
        "   try: \n",
        "      while True: \n",
        "         month = int(input())\n",
        "         if month < 1 or month > 12: \n",
        "            print('Please input a valid month')\n",
        "         break\n",
        "   except Exception: \n",
        "      print('please input a number')\n",
        "   \n",
        "   df['price'] = df['price'].astype(int)\n",
        "   filters = np.array(df['month'] == month)\n",
        "   filterDf = df[filters]\n",
        "   filterDf = filterDf.sort_values('price', ascending=False)\n",
        "\n",
        "   print(filterDf.head())   \n",
        "   print('Time to excute question 7: ', timer.stop()) \n",
        "\n",
        "question7()"
      ],
      "outputs": [
        {
          "output_type": "stream",
          "name": "stdout",
          "text": [
            "Input a month to sort: \n",
            "                                             id    price        date type  \\\n",
            "5147078  {50F76474-2448-40D7-BBA3-6490F4604099}  8000000  2000-05-02    D   \n",
            "5847716  {2D1FDAA8-911D-4456-BAE3-CE0C9C9F6C3A}  6250000  2000-05-06    D   \n",
            "8793591  {7BFD349E-2107-4BDD-AE05-B85D7B7CA5A8}  5650000  2002-05-17    S   \n",
            "9107464  {21A7CA52-B6C3-46D5-8FE5-CD07FC8A00E0}  5200000  2003-05-30    D   \n",
            "8058722  {37B86D86-47D0-44A5-95A2-6205CF6E1F3A}  4624072  2002-05-29    D   \n",
            "\n",
            "        old/new duration town/city                district         country  \\\n",
            "5147078       N        F    LONDON  KENSINGTON AND CHELSEA  GREATER LONDON   \n",
            "5847716       Y        F  HATFIELD         WELWYN HATFIELD   HERTFORDSHIRE   \n",
            "8793591       N        L    LONDON  KENSINGTON AND CHELSEA  GREATER LONDON   \n",
            "9107464       N        L    LONDON  KENSINGTON AND CHELSEA  GREATER LONDON   \n",
            "8058722       N        F     ASCOT               RUNNYMEDE          SURREY   \n",
            "\n",
            "        ppd_type record_status  year  month  day  \n",
            "5147078        A             A  2000      5    2  \n",
            "5847716        A             A  2000      5    6  \n",
            "8793591        A             A  2002      5   17  \n",
            "9107464        A             A  2003      5   30  \n",
            "8058722        A             A  2002      5   29  \n",
            "Time to excute question 7:  3.351457118988037\n"
          ]
        }
      ],
      "metadata": {}
    },
    {
      "cell_type": "markdown",
      "source": [
        "# **Question 8**"
      ],
      "metadata": {}
    },
    {
      "cell_type": "code",
      "execution_count": 41,
      "source": [
        "def question8(): \n",
        "   timer = Timer()\n",
        "   timer.start() \n",
        "   while True: \n",
        "      print('Input type of housing, a new building or a old style ? ')\n",
        "      print('Y: A newly built')\n",
        "      print('N: A established residantal')\n",
        "      type = input()\n",
        "      if type != 'Y' and type != 'N': \n",
        "         print('Please type a valid value input')\n",
        "      else: \n",
        "         break\n",
        "   \n",
        "   dfFilter = df[np.logical_and(np.array(df['old/new']==type), np.array(df['month'] >= 6))]\n",
        "\n",
        "   print('There are {} transaction conducted with {} style from Jul'.format(len(dfFilter), 'New' if type == 'Y' else 'Old'))\n",
        "   \n",
        "   ydfFilter = df[np.logical_and(np.array(df['old/new']=='Y'), np.array(df['month'] >= 6))]\n",
        "   ndfFilter = df[np.logical_and(np.array(df['old/new']=='N'), np.array(df['month'] >= 6))]\n",
        "   values = np.array([len(ydfFilter), len(ndfFilter)])\n",
        "   labels = ['New Style', 'Old Style']\n",
        "   plt.pie(values, labels=labels, shadow=True)\n",
        "   plt.show()\n",
        "   print('Time to excute question 8: ', timer.stop())\n",
        "\n",
        "question8()"
      ],
      "outputs": [
        {
          "output_type": "stream",
          "name": "stdout",
          "text": [
            "Input type of housing, a new building or a old style ? \n",
            "Y: A newly built\n",
            "N: A established residantal\n",
            "Please type a valid value input\n",
            "Input type of housing, a new building or a old style ? \n",
            "Y: A newly built\n",
            "N: A established residantal\n",
            "There are 678922 transaction conducted with New style from Jul\n"
          ]
        },
        {
          "output_type": "display_data",
          "data": {
            "image/png": "[encoded data removed]",
            "text/plain": [
              "<Figure size 432x288 with 1 Axes>"
            ]
          },
          "metadata": {}
        },
        {
          "output_type": "stream",
          "name": "stdout",
          "text": [
            "Time to excute question 8:  5.996523141860962\n"
          ]
        }
      ],
      "metadata": {}
    },
    {
      "cell_type": "markdown",
      "source": [
        "# **Question 9**"
      ],
      "metadata": {}
    },
    {
      "cell_type": "code",
      "execution_count": 59,
      "source": [
        "def question9(): \n",
        "   from user_requirement import building_type, min_price, max_price, ppd_type, duration\n",
        "   case1 = np.array(df['duration'] == duration)\n",
        "   case2 = np.array(df['price'] >= min_price)\n",
        "   case3 = np.array(df['price'] <= max_price)\n",
        "   case4 = np.array(df['ppd_type'] == ppd_type)\n",
        "   case5 = np.array(df['type'] == building_type)\n",
        "\n",
        "   resultDf = df[np.logical_and.reduce(np.array((case1, case2, case3, case4, case5)))]\n",
        "   city_list = np.array(resultDf['town/city'].values.tolist())\n",
        "   nodes, inv, counts = np.unique(city_list, return_inverse=True, return_counts=True)\n",
        "   for i in range(len(counts)): \n",
        "      for j in range(len(counts)): \n",
        "         if counts[i] > counts[j]: \n",
        "            tmp = counts[i]\n",
        "            tmp1 = nodes[i] \n",
        "            counts[i] = counts[j]\n",
        "            counts[j] = tmp\n",
        "            nodes[i] = nodes[j]\n",
        "            nodes[j] = tmp1\n",
        "\n",
        "   amount = counts[:5]\n",
        "   city = nodes[:5]\n",
        "   explode = [0, 0, 0, 0, 0.0]\n",
        "   colors = ['tab:blue', 'tab:cyan', 'tab:gray', 'tab:orange', 'tab:red']\n",
        "\n",
        "   plt.pie(\n",
        "         amount, \n",
        "         labels=city,\n",
        "         autopct='%.0f%%', \n",
        "         colors=colors,\n",
        "         explode = explode, \n",
        "         shadow = True)\n",
        "   plt.show()\n",
        "   return True\n",
        "\n",
        "question9()"
      ],
      "outputs": [
        {
          "output_type": "display_data",
          "data": {
            "image/png": "[encoded data removed]",
            "text/plain": [
              "<Figure size 432x288 with 1 Axes>"
            ]
          },
          "metadata": {}
        },
        {
          "output_type": "execute_result",
          "data": {
            "text/plain": [
              "True"
            ]
          },
          "metadata": {},
          "execution_count": 59
        }
      ],
      "metadata": {}
    },
    {
      "cell_type": "markdown",
      "source": [
        "# **Question 10**"
      ],
      "metadata": {}
    },
    {
      "cell_type": "code",
      "execution_count": 62,
      "source": [
        "def question10(): \n",
        "   timer = Timer() \n",
        "   timer.start()\n",
        "   city_list = np.array(df['town/city'].values.tolist())\n",
        "   nodes, inv, counts = np.unique(city_list, return_inverse=True, return_counts=True)\n",
        "   print('Search transactions in by city name: ')\n",
        "   name = input() \n",
        "   # name = 'london'\n",
        "   name_list = list() \n",
        "   for i, node in enumerate(nodes): \n",
        "      name = name.lower()\n",
        "      _node = node.lower()\n",
        "      if name in _node: \n",
        "         name_list.append({'city': node, 'count': counts[i]})\n",
        "\n",
        "   if len(name_list) == 0: \n",
        "      print('No valid city name found')\n",
        "      return False\n",
        "\n",
        "   # district_list = \n",
        "   print('Select function: ')\n",
        "   print('1: Visualize data by cities found')\n",
        "   print('2: Sort data by price and write csv file about rows found')\n",
        "   try: \n",
        "      select = int(input())\n",
        "      # select = 2\n",
        "      if select == 1: \n",
        "         cities = [item['city'] for item in name_list]\n",
        "         values = [item['count'] for item in name_list]\n",
        "         plt.figure(figsize=(15, 3))\n",
        "         plt.bar(cities, values, align='center', width=0.5)\n",
        "         plt.xlabel('City')\n",
        "         plt.ylabel('Number of transactions')\n",
        "         plt.show() \n",
        "      elif select == 2: \n",
        "         dfs = list() \n",
        "         for item in name_list: \n",
        "            name = item['city']\n",
        "            dfs.append(df[np.array(df['town/city'] == name)])\n",
        "         mergeDf = pd.concat(dfs) \n",
        "         mergeDf = mergeDf.sort_values('price', ascending=False)\n",
        "         mergeDf.to_csv('filter_data.csv')\n",
        "   except Exception as error: \n",
        "      print('Error when excute question 9: ', error)\n",
        "   print('Time to excute question 9: ', timer.stop())\n",
        "\n",
        "question10()"
      ],
      "outputs": [
        {
          "output_type": "stream",
          "name": "stdout",
          "text": [
            "Search transactions in by city name: \n",
            "Select function: \n",
            "1: Visualize data by cities found\n",
            "2: Sort data by price and write csv file about rows found\n"
          ]
        },
        {
          "output_type": "display_data",
          "data": {
            "image/png": "[encoded data removed]",
            "text/plain": [
              "<Figure size 1080x216 with 1 Axes>"
            ]
          },
          "metadata": {
            "needs_background": "light"
          }
        },
        {
          "output_type": "stream",
          "name": "stdout",
          "text": [
            "Time to excute question 9:  8.205337762832642\n"
          ]
        }
      ],
      "metadata": {}
    }
  ]
}